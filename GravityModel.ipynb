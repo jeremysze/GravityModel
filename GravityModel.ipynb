{
 "cells": [
  {
   "cell_type": "markdown",
   "metadata": {},
   "source": [
    "\n",
    "\n",
    "## Gravity Model\n",
    "\n",
    "Codebook: http://www.cepii.fr/DATA_DOWNLOAD/gravity/gravdata_codebook_2015.pdf <br>\n",
    "Source: http://www.cepii.fr/CEPII/en/bdd_modele/presentation.asp?id=8 <br>\n",
    "Resources: https://sites.google.com/site/hiegravity/stata-programs"
   ]
  },
  {
   "cell_type": "markdown",
   "metadata": {},
   "source": [
    "Use this data on bilateral trade flows, bilateral tariffs, and other barriers to trade to estimate the elasticity of trade with\n",
    "respect to trade costs.\n",
    "\n",
    "Aim: Replicate some models from Eaton and Kortum (2002) <br>\n",
    "https://www.princeton.edu/~erossi/courses_files/EKn.pdf"
   ]
  },
  {
   "cell_type": "code",
   "execution_count": 1,
   "metadata": {},
   "outputs": [
    {
     "name": "stdout",
     "output_type": "stream",
     "text": [
      "C:\\Users\\jerem\\Documents\\International Trade\\TermPaper\n"
     ]
    }
   ],
   "source": [
    "cd"
   ]
  },
  {
   "cell_type": "code",
   "execution_count": 1,
   "metadata": {},
   "outputs": [],
   "source": [
    "use \"gravdata_cepii\\gravdata.dta\",clear"
   ]
  },
  {
   "cell_type": "code",
   "execution_count": 2,
   "metadata": {},
   "outputs": [
    {
     "name": "stdout",
     "output_type": "stream",
     "text": [
      "\n",
      "Contains data from gravdata_cepii\\gravdata.dta\n",
      "  obs:     3,421,618                          \n",
      " vars:            64                          1 Feb 2017 19:28\n",
      " size:   567,988,588                          (_dta has notes)\n",
      "---------------------------------------------------------------------------------------------------------------------------------------------------------------------------------------------------------------------------------------------------------------\n",
      "              storage   display    value\n",
      "variable name   type    format     label      variable label\n",
      "---------------------------------------------------------------------------------------------------------------------------------------------------------------------------------------------------------------------------------------------------------------\n",
      "iso3_o          str3    %9s                   ISO3 alphanumeric\n",
      "iso2_o          str2    %9s                   ISO2 alphanumeric\n",
      "iso3_d          str3    %9s                   ISO3 alphanumeric\n",
      "iso2_d          str2    %9s                   ISO2 alphanumeric\n",
      "year            int     %9.0g                 \n",
      "contig          byte    %8.0g                 1=Contiguity\n",
      "comlang_off     byte    %8.0g                 1=Common official or primary language\n",
      "comlang_ethno   byte    %8.0g                 1=Language is spoken by at least 9% of the population\n",
      "comcol          byte    %8.0g                 1=Common colonizer post 1945\n",
      "col45           byte    %8.0g                 1=Pair in colonial relationship post 1945\n",
      "distw           double  %9.0g                 weighted distance (pop-wt, km)\n",
      "pop_o           double  %9.0g                 Population, total in mn\n",
      "pop_d           double  %9.0g                 Population, total in mn\n",
      "gdp_o           double  %9.0g                 GDP (current US$)\n",
      "gdp_d           double  %9.0g                 GDP (current US$)\n",
      "gdpcap_o        float   %9.0g                 GDP per cap (current US$)\n",
      "gdpcap_d        float   %9.0g                 GDP per cap (current US$)\n",
      "area_o          long    %12.0g                Area in sq. kms\n",
      "area_d          long    %12.0g                Area in sq. kms\n",
      "tdiff           float   %9.0g                 nb of hours difference between ex and im\n",
      "heg_o           byte    %8.0g                 1=Origin is current or former hegemon of destination\n",
      "heg_d           byte    %8.0g                 1=Destination is current or former hegemon of origin\n",
      "conflict        byte    %8.0g                 1=War\n",
      "indepdate       int     %8.0g                 Independence date if colony=1\n",
      "col_to          byte    %9.0g                 1=Trade from heg_o to colony\n",
      "col_fr          byte    %9.0g                 1=Trade from colony to heg_d\n",
      "colony          byte    %9.0g                 1=Pair ever in colonial relationship\n",
      "curcol          byte    %9.0g                 1=Pair currently in colonial relationship\n",
      "sibling         byte    %9.0g                 1=Pair ever in sibling relationship\n",
      "cursib          byte    %9.0g                 1=Pair currently in sibling relationship\n",
      "empire          str3    %9s                   hegemon if cursib==1\n",
      "sever           int     %10.0g                severance year for pairs if sibling == 1\n",
      "sib_conflict    byte    %10.0g                1=Pair ever in sibling relationship and conflict\n",
      "comcur          byte    %8.0g                 1=Common currency\n",
      "comrelig        float   %9.0g                 1=Common religion\n",
      "comleg_pretrans byte    %9.0g                 1=Common legal origins before transition\n",
      "comleg_posttr~s byte    %9.0g                 1=Common legal origins after transition\n",
      "transition_le~e byte    %9.0g                 1=Common legal origin changed since transition\n",
      "legold_o        str2    %9s                   origin legal system before transition\n",
      "legold_d        str2    %9s                   destination legal system before transition\n",
      "legnew_o        str2    %9s                   origin legal system after transition\n",
      "legnew_d        str2    %9s                   destination legal system after transition\n",
      "gatt_o          byte    %8.0g                 1=Origin is GATT/WTO member\n",
      "gatt_d          byte    %8.0g                 1=Destination is GATT/WTO member\n",
      "pta_bb          byte    %9.0g                 1=Non-reciprocal PTA ; 2=PTA (Source: Baier & Bergstrand, 2009)\n",
      "fta_wto         byte    %8.0g                 1=RTA (Source: WTO, 2015)\n",
      "fta_bb          byte    %8.0g                 1=FTA;2=Cust. Union;3=Common Market;4=Economic union (Baier & Bergstrand, 2009)\n",
      "fta_hmr         byte    %8.0g                 1=FTA (Source: Head, Mayer and Ries, 2010)\n",
      "acp_to_eu       byte    %8.0g                 1=ACP to EU\n",
      "eu_to_acp       byte    %8.0g                 1=EU to ACP\n",
      "gsp_o_d         byte    %9.0g                 1=Origin is donator\n",
      "gsp_d_d         byte    %9.0g                 1=Destination is donator\n",
      "flaggsp_o_d     byte    %40.0g     gspflag    report of changes in Rose data\n",
      "flaggsp_d_d     byte    %40.0g     gspflag    report of changes in Rose data\n",
      "entry_cost_o    double  %10.0g                Cost of business start-up procedures (% of GNI per capita)\n",
      "entry_cost_d    double  %10.0g                Cost of business start-up procedures (% of GNI per capita)\n",
      "entry_proc_o    byte    %10.0g                Start-up procedures to register a business (number)\n",
      "entry_proc_d    byte    %10.0g                Start-up procedures to register a business (number)\n",
      "entry_time_o    double  %10.0g                Time required to start a business (days)\n",
      "entry_time_d    double  %10.0g                Time required to start a business (days)\n",
      "entry_tp_o      float   %9.0g                 Days+Procs to start a business\n",
      "entry_tp_d      float   %9.0g                 Days+Procs to start a business\n",
      "eu_o            byte    %8.0g                 1=Origin is a EU member\n",
      "eu_d            byte    %8.0g                 1=Destination is a EU member\n",
      "---------------------------------------------------------------------------------------------------------------------------------------------------------------------------------------------------------------------------------------------------------------\n",
      "Sorted by: iso3_o  iso3_d  year\n"
     ]
    }
   ],
   "source": [
    "describe"
   ]
  },
  {
   "cell_type": "code",
   "execution_count": 3,
   "metadata": {},
   "outputs": [
    {
     "name": "stdout",
     "output_type": "stream",
     "text": [
      "\n",
      "    Variable |        Obs        Mean    Std. Dev.       Min        Max\n",
      "-------------+---------------------------------------------------------\n",
      "      iso3_o |          0\n"
     ]
    }
   ],
   "source": [
    "sum iso3_o"
   ]
  },
  {
   "cell_type": "code",
   "execution_count": 4,
   "metadata": {},
   "outputs": [
    {
     "name": "stdout",
     "output_type": "stream",
     "text": [
      "\n",
      "---------------------------------------------------------------------------------------------------------------------------------------------------------------------------------------------------------------------------------------------------------------\n",
      "iso3_o                                                                                                                                                                                                                                        ISO3 alphanumeric\n",
      "---------------------------------------------------------------------------------------------------------------------------------------------------------------------------------------------------------------------------------------------------------------\n",
      "\n",
      "                  type:  string (str3)\n",
      "\n",
      "         unique values:  225                      missing \"\":  0/3,421,618\n",
      "\n",
      "              examples:  \"CPV\"\n",
      "                         \"HTI\"\n",
      "                         \"MRT\"\n",
      "                         \"SLV\"\n"
     ]
    }
   ],
   "source": [
    "codebook iso3_o"
   ]
  },
  {
   "cell_type": "code",
   "execution_count": 5,
   "metadata": {},
   "outputs": [
    {
     "name": "stdout",
     "output_type": "stream",
     "text": [
      "\n",
      "---------------------------------------------------------------------------------------------------------------------------------------------------------------------------------------------------------------------------------------------------------------\n",
      "iso3_d                                                                                                                                                                                                                                        ISO3 alphanumeric\n",
      "---------------------------------------------------------------------------------------------------------------------------------------------------------------------------------------------------------------------------------------------------------------\n",
      "\n",
      "                  type:  string (str3)\n",
      "\n",
      "         unique values:  225                      missing \"\":  0/3,421,618\n",
      "\n",
      "              examples:  \"CPV\"\n",
      "                         \"HTI\"\n",
      "                         \"MRT\"\n",
      "                         \"SLV\"\n"
     ]
    }
   ],
   "source": [
    "codebook iso3_d"
   ]
  },
  {
   "cell_type": "code",
   "execution_count": 7,
   "metadata": {},
   "outputs": [
    {
     "name": "stdout",
     "output_type": "stream",
     "text": [
      "\n",
      "---------------------------------------------------------------------------------------------------------------------------------------------------------------------------------------------------------------------------------------------------------------\n",
      "year                                                                                                                                                                                                                                                (unlabeled)\n",
      "---------------------------------------------------------------------------------------------------------------------------------------------------------------------------------------------------------------------------------------------------------------\n",
      "\n",
      "                  type:  numeric (int)\n",
      "\n",
      "                 range:  [1948,2015]                  units:  1\n",
      "         unique values:  68                       missing .:  0/3,421,618\n",
      "\n",
      "                  mean:   1981.48\n",
      "              std. dev:   19.6167\n",
      "\n",
      "           percentiles:        10%       25%       50%       75%       90%\n",
      "                              1954      1964      1981      1998      2009\n"
     ]
    }
   ],
   "source": [
    "codebook year"
   ]
  },
  {
   "cell_type": "code",
   "execution_count": 6,
   "metadata": {},
   "outputs": [
    {
     "name": "stdout",
     "output_type": "stream",
     "text": [
      "\n",
      "                            year\n",
      "-------------------------------------------------------------\n",
      "      Percentiles      Smallest\n",
      " 1%         1948           1948\n",
      " 5%         1951           1948\n",
      "10%         1954           1948       Obs           3,421,618\n",
      "25%         1964           1948       Sum of Wgt.   3,421,618\n",
      "\n",
      "50%         1981                      Mean           1981.478\n",
      "                        Largest       Std. Dev.      19.61671\n",
      "75%         1998           2015\n",
      "90%         2009           2015       Variance       384.8152\n",
      "95%         2012           2015       Skewness        .001439\n",
      "99%         2015           2015       Kurtosis       1.801237\n"
     ]
    }
   ],
   "source": [
    "sum year, detail"
   ]
  }
 ],
 "metadata": {
  "kernelspec": {
   "display_name": "Stata",
   "language": "stata",
   "name": "stata"
  },
  "language_info": {
   "codemirror_mode": "stata",
   "file_extension": ".do",
   "mimetype": "text/x-stata",
   "name": "stata",
   "version": "15.1"
  }
 },
 "nbformat": 4,
 "nbformat_minor": 2
}
